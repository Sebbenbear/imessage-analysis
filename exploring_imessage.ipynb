{
 "cells": [
  {
   "cell_type": "markdown",
   "metadata": {
    "slideshow": {
     "slide_type": "slide"
    }
   },
   "source": [
    "# Exploring iMessage Data\n",
    "\n",
    "Using Jupyter, Pandas and NLTK to explore iMessage data on MacOS"
   ]
  },
  {
   "cell_type": "markdown",
   "metadata": {
    "slideshow": {
     "slide_type": "notes"
    }
   },
   "source": [
    "Run slides with:\n",
    "\n",
    "jupyter nbconvert exploring_imessage.ipynb --to slides --post serve"
   ]
  },
  {
   "cell_type": "markdown",
   "metadata": {
    "collapsed": true,
    "slideshow": {
     "slide_type": "notes"
    }
   },
   "source": [
    "Requirements: this notebook is running on MacOS, in order to view iMessage data.\n",
    "\n",
    "This is a notebook for people to see the conversational patterns in their digital communications. This notebook currently includes\n",
    "\n",
    "#### Important Notes:\n",
    "This notebook was constructed with the following tools:\n",
    "\n",
    "Python 3.6\n",
    "\n",
    "Dates\n",
    "I ran into an issue converting iMessage dates in the SQLite query language. They are stored in Mac Absolute Time, (number of seconds since 01/01/2001 00:00:00 UTC), not Unix Time!\n",
    "\n",
    "Since I am running this notebook on High Sierra, it's worth mentioning that the date formats have changed since previous versions (they are now padded with 9 0's!) and I will use this for converting the dates:\n",
    "\n",
    "datetime(message.date/1000000000 + strftime(\"%s\", \"2001-01-01\"),\"unixepoch\",\"localtime\")\n",
    "\n",
    "If your version of MacOS is lower than 10.13, you should replace line with this:\n",
    "\n",
    "datetime(date + strftime('%s','2001-01-01'), 'unixepoch')"
   ]
  },
  {
   "cell_type": "markdown",
   "metadata": {
    "slideshow": {
     "slide_type": "slide"
    }
   },
   "source": [
    "# Introduction\n",
    "\n",
    "Why would you do this?\n",
    "\n",
    "A data-driven journey of self-discovery! We all generate a lot of textual data, messaging each other each day. What kinds of language do we choose to use, and what does it say about us?\n",
    "\n",
    "iMessage data is synced across your Apple devices, so it's fairly easy to get to on your Mac."
   ]
  },
  {
   "cell_type": "markdown",
   "metadata": {
    "slideshow": {
     "slide_type": "slide"
    }
   },
   "source": [
    "# Extract iMessage Data\n",
    "\n",
    "iMessage data is stored in **chat.db**, an SQLite database located in the user's Library directory.\n",
    "\n",
    "My iMessage data only goes back until 2016, as that's when I moved to Australia and everything changed. You may have a lot more, or a lot less data than I do!"
   ]
  },
  {
   "cell_type": "markdown",
   "metadata": {
    "slideshow": {
     "slide_type": "subslide"
    }
   },
   "source": [
    "## Organise Imports\n",
    "\n",
    "The first thing I like to do is grab all the imports that I'll use throughout the Notebook."
   ]
  },
  {
   "cell_type": "code",
   "execution_count": 1,
   "metadata": {
    "collapsed": true,
    "slideshow": {
     "slide_type": "fragment"
    }
   },
   "outputs": [],
   "source": [
    "import os\n",
    "import sys\n",
    "import sqlite3\n",
    "from datetime import date, datetime\n",
    "import pandas as pd\n",
    "import matplotlib.pyplot as plt\n",
    "import nltk\n",
    "import json"
   ]
  },
  {
   "cell_type": "markdown",
   "metadata": {
    "slideshow": {
     "slide_type": "subslide"
    }
   },
   "source": [
    "## Grab your chat.db database path"
   ]
  },
  {
   "cell_type": "markdown",
   "metadata": {
    "slideshow": {
     "slide_type": "fragment"
    }
   },
   "source": [
    "We locate our username in order to navigate to the correct path where our chat.db file is stored.\n",
    "Once we have this, we can make the connection. Let's see what tables we have access to in the database!"
   ]
  },
  {
   "cell_type": "code",
   "execution_count": 2,
   "metadata": {
    "slideshow": {
     "slide_type": "fragment"
    }
   },
   "outputs": [
    {
     "data": {
      "text/plain": [
       "'pauline'"
      ]
     },
     "execution_count": 2,
     "metadata": {},
     "output_type": "execute_result"
    }
   ],
   "source": [
    "USERNAME = os.popen('whoami').read().strip()\n",
    "USERNAME"
   ]
  },
  {
   "cell_type": "code",
   "execution_count": 3,
   "metadata": {
    "slideshow": {
     "slide_type": "fragment"
    }
   },
   "outputs": [
    {
     "data": {
      "text/html": [
       "<div>\n",
       "<style>\n",
       "    .dataframe thead tr:only-child th {\n",
       "        text-align: right;\n",
       "    }\n",
       "\n",
       "    .dataframe thead th {\n",
       "        text-align: left;\n",
       "    }\n",
       "\n",
       "    .dataframe tbody tr th {\n",
       "        vertical-align: top;\n",
       "    }\n",
       "</style>\n",
       "<table border=\"1\" class=\"dataframe\">\n",
       "  <thead>\n",
       "    <tr style=\"text-align: right;\">\n",
       "      <th></th>\n",
       "      <th>name</th>\n",
       "    </tr>\n",
       "  </thead>\n",
       "  <tbody>\n",
       "    <tr>\n",
       "      <th>0</th>\n",
       "      <td>_SqliteDatabaseProperties</td>\n",
       "    </tr>\n",
       "    <tr>\n",
       "      <th>1</th>\n",
       "      <td>message</td>\n",
       "    </tr>\n",
       "    <tr>\n",
       "      <th>2</th>\n",
       "      <td>sqlite_sequence</td>\n",
       "    </tr>\n",
       "    <tr>\n",
       "      <th>3</th>\n",
       "      <td>chat</td>\n",
       "    </tr>\n",
       "    <tr>\n",
       "      <th>4</th>\n",
       "      <td>attachment</td>\n",
       "    </tr>\n",
       "    <tr>\n",
       "      <th>5</th>\n",
       "      <td>handle</td>\n",
       "    </tr>\n",
       "    <tr>\n",
       "      <th>6</th>\n",
       "      <td>message_attachment_join</td>\n",
       "    </tr>\n",
       "    <tr>\n",
       "      <th>7</th>\n",
       "      <td>chat_handle_join</td>\n",
       "    </tr>\n",
       "    <tr>\n",
       "      <th>8</th>\n",
       "      <td>chat_message_join</td>\n",
       "    </tr>\n",
       "    <tr>\n",
       "      <th>9</th>\n",
       "      <td>deleted_messages</td>\n",
       "    </tr>\n",
       "    <tr>\n",
       "      <th>10</th>\n",
       "      <td>sync_deleted_messages</td>\n",
       "    </tr>\n",
       "    <tr>\n",
       "      <th>11</th>\n",
       "      <td>message_processing_task</td>\n",
       "    </tr>\n",
       "    <tr>\n",
       "      <th>12</th>\n",
       "      <td>sync_deleted_chats</td>\n",
       "    </tr>\n",
       "    <tr>\n",
       "      <th>13</th>\n",
       "      <td>sync_deleted_attachments</td>\n",
       "    </tr>\n",
       "    <tr>\n",
       "      <th>14</th>\n",
       "      <td>kvtable</td>\n",
       "    </tr>\n",
       "    <tr>\n",
       "      <th>15</th>\n",
       "      <td>sqlite_stat1</td>\n",
       "    </tr>\n",
       "  </tbody>\n",
       "</table>\n",
       "</div>"
      ],
      "text/plain": [
       "                         name\n",
       "0   _SqliteDatabaseProperties\n",
       "1                     message\n",
       "2             sqlite_sequence\n",
       "3                        chat\n",
       "4                  attachment\n",
       "5                      handle\n",
       "6     message_attachment_join\n",
       "7            chat_handle_join\n",
       "8           chat_message_join\n",
       "9            deleted_messages\n",
       "10      sync_deleted_messages\n",
       "11    message_processing_task\n",
       "12         sync_deleted_chats\n",
       "13   sync_deleted_attachments\n",
       "14                    kvtable\n",
       "15               sqlite_stat1"
      ]
     },
     "execution_count": 3,
     "metadata": {},
     "output_type": "execute_result"
    }
   ],
   "source": [
    "chat_db = '/Users/'+USERNAME+'/Library/Messages/chat.db'\n",
    "\n",
    "conn = sqlite3.connect(chat_db, check_same_thread=False)\n",
    "query = '''\n",
    "        SELECT name \n",
    "        FROM sqlite_master \n",
    "        WHERE type='table';\n",
    "        '''\n",
    "df = pd.read_sql_query(query, conn)\n",
    "df"
   ]
  },
  {
   "cell_type": "markdown",
   "metadata": {
    "slideshow": {
     "slide_type": "subslide"
    }
   },
   "source": [
    "Turns out we have 15 different tables here! Let's look to see what ones might be interesting to us.\n",
    "\n",
    "The **message** table looks useful, as does **chat**. I'm guessing **handle** is like a user handle.\n",
    "\n",
    "Let's check out the **message** schema."
   ]
  },
  {
   "cell_type": "code",
   "execution_count": 4,
   "metadata": {
    "slideshow": {
     "slide_type": "fragment"
    }
   },
   "outputs": [
    {
     "data": {
      "text/html": [
       "<div>\n",
       "<style>\n",
       "    .dataframe thead tr:only-child th {\n",
       "        text-align: right;\n",
       "    }\n",
       "\n",
       "    .dataframe thead th {\n",
       "        text-align: left;\n",
       "    }\n",
       "\n",
       "    .dataframe tbody tr th {\n",
       "        vertical-align: top;\n",
       "    }\n",
       "</style>\n",
       "<table border=\"1\" class=\"dataframe\">\n",
       "  <thead>\n",
       "    <tr style=\"text-align: right;\">\n",
       "      <th></th>\n",
       "      <th>cid</th>\n",
       "      <th>name</th>\n",
       "      <th>type</th>\n",
       "      <th>notnull</th>\n",
       "      <th>dflt_value</th>\n",
       "      <th>pk</th>\n",
       "    </tr>\n",
       "  </thead>\n",
       "  <tbody>\n",
       "    <tr>\n",
       "      <th>0</th>\n",
       "      <td>0</td>\n",
       "      <td>ROWID</td>\n",
       "      <td>INTEGER</td>\n",
       "      <td>0</td>\n",
       "      <td>None</td>\n",
       "      <td>1</td>\n",
       "    </tr>\n",
       "    <tr>\n",
       "      <th>1</th>\n",
       "      <td>1</td>\n",
       "      <td>guid</td>\n",
       "      <td>TEXT</td>\n",
       "      <td>1</td>\n",
       "      <td>None</td>\n",
       "      <td>0</td>\n",
       "    </tr>\n",
       "    <tr>\n",
       "      <th>2</th>\n",
       "      <td>2</td>\n",
       "      <td>text</td>\n",
       "      <td>TEXT</td>\n",
       "      <td>0</td>\n",
       "      <td>None</td>\n",
       "      <td>0</td>\n",
       "    </tr>\n",
       "    <tr>\n",
       "      <th>3</th>\n",
       "      <td>3</td>\n",
       "      <td>replace</td>\n",
       "      <td>INTEGER</td>\n",
       "      <td>0</td>\n",
       "      <td>0</td>\n",
       "      <td>0</td>\n",
       "    </tr>\n",
       "    <tr>\n",
       "      <th>4</th>\n",
       "      <td>4</td>\n",
       "      <td>service_center</td>\n",
       "      <td>TEXT</td>\n",
       "      <td>0</td>\n",
       "      <td>None</td>\n",
       "      <td>0</td>\n",
       "    </tr>\n",
       "    <tr>\n",
       "      <th>5</th>\n",
       "      <td>5</td>\n",
       "      <td>handle_id</td>\n",
       "      <td>INTEGER</td>\n",
       "      <td>0</td>\n",
       "      <td>0</td>\n",
       "      <td>0</td>\n",
       "    </tr>\n",
       "    <tr>\n",
       "      <th>6</th>\n",
       "      <td>6</td>\n",
       "      <td>subject</td>\n",
       "      <td>TEXT</td>\n",
       "      <td>0</td>\n",
       "      <td>None</td>\n",
       "      <td>0</td>\n",
       "    </tr>\n",
       "    <tr>\n",
       "      <th>7</th>\n",
       "      <td>7</td>\n",
       "      <td>country</td>\n",
       "      <td>TEXT</td>\n",
       "      <td>0</td>\n",
       "      <td>None</td>\n",
       "      <td>0</td>\n",
       "    </tr>\n",
       "    <tr>\n",
       "      <th>8</th>\n",
       "      <td>8</td>\n",
       "      <td>attributedBody</td>\n",
       "      <td>BLOB</td>\n",
       "      <td>0</td>\n",
       "      <td>None</td>\n",
       "      <td>0</td>\n",
       "    </tr>\n",
       "    <tr>\n",
       "      <th>9</th>\n",
       "      <td>9</td>\n",
       "      <td>version</td>\n",
       "      <td>INTEGER</td>\n",
       "      <td>0</td>\n",
       "      <td>0</td>\n",
       "      <td>0</td>\n",
       "    </tr>\n",
       "    <tr>\n",
       "      <th>10</th>\n",
       "      <td>10</td>\n",
       "      <td>type</td>\n",
       "      <td>INTEGER</td>\n",
       "      <td>0</td>\n",
       "      <td>0</td>\n",
       "      <td>0</td>\n",
       "    </tr>\n",
       "    <tr>\n",
       "      <th>11</th>\n",
       "      <td>11</td>\n",
       "      <td>service</td>\n",
       "      <td>TEXT</td>\n",
       "      <td>0</td>\n",
       "      <td>None</td>\n",
       "      <td>0</td>\n",
       "    </tr>\n",
       "    <tr>\n",
       "      <th>12</th>\n",
       "      <td>12</td>\n",
       "      <td>account</td>\n",
       "      <td>TEXT</td>\n",
       "      <td>0</td>\n",
       "      <td>None</td>\n",
       "      <td>0</td>\n",
       "    </tr>\n",
       "    <tr>\n",
       "      <th>13</th>\n",
       "      <td>13</td>\n",
       "      <td>account_guid</td>\n",
       "      <td>TEXT</td>\n",
       "      <td>0</td>\n",
       "      <td>None</td>\n",
       "      <td>0</td>\n",
       "    </tr>\n",
       "    <tr>\n",
       "      <th>14</th>\n",
       "      <td>14</td>\n",
       "      <td>error</td>\n",
       "      <td>INTEGER</td>\n",
       "      <td>0</td>\n",
       "      <td>0</td>\n",
       "      <td>0</td>\n",
       "    </tr>\n",
       "    <tr>\n",
       "      <th>15</th>\n",
       "      <td>15</td>\n",
       "      <td>date</td>\n",
       "      <td>INTEGER</td>\n",
       "      <td>0</td>\n",
       "      <td>None</td>\n",
       "      <td>0</td>\n",
       "    </tr>\n",
       "    <tr>\n",
       "      <th>16</th>\n",
       "      <td>16</td>\n",
       "      <td>date_read</td>\n",
       "      <td>INTEGER</td>\n",
       "      <td>0</td>\n",
       "      <td>None</td>\n",
       "      <td>0</td>\n",
       "    </tr>\n",
       "    <tr>\n",
       "      <th>17</th>\n",
       "      <td>17</td>\n",
       "      <td>date_delivered</td>\n",
       "      <td>INTEGER</td>\n",
       "      <td>0</td>\n",
       "      <td>None</td>\n",
       "      <td>0</td>\n",
       "    </tr>\n",
       "    <tr>\n",
       "      <th>18</th>\n",
       "      <td>18</td>\n",
       "      <td>is_delivered</td>\n",
       "      <td>INTEGER</td>\n",
       "      <td>0</td>\n",
       "      <td>0</td>\n",
       "      <td>0</td>\n",
       "    </tr>\n",
       "    <tr>\n",
       "      <th>19</th>\n",
       "      <td>19</td>\n",
       "      <td>is_finished</td>\n",
       "      <td>INTEGER</td>\n",
       "      <td>0</td>\n",
       "      <td>0</td>\n",
       "      <td>0</td>\n",
       "    </tr>\n",
       "    <tr>\n",
       "      <th>20</th>\n",
       "      <td>20</td>\n",
       "      <td>is_emote</td>\n",
       "      <td>INTEGER</td>\n",
       "      <td>0</td>\n",
       "      <td>0</td>\n",
       "      <td>0</td>\n",
       "    </tr>\n",
       "    <tr>\n",
       "      <th>21</th>\n",
       "      <td>21</td>\n",
       "      <td>is_from_me</td>\n",
       "      <td>INTEGER</td>\n",
       "      <td>0</td>\n",
       "      <td>0</td>\n",
       "      <td>0</td>\n",
       "    </tr>\n",
       "    <tr>\n",
       "      <th>22</th>\n",
       "      <td>22</td>\n",
       "      <td>is_empty</td>\n",
       "      <td>INTEGER</td>\n",
       "      <td>0</td>\n",
       "      <td>0</td>\n",
       "      <td>0</td>\n",
       "    </tr>\n",
       "    <tr>\n",
       "      <th>23</th>\n",
       "      <td>23</td>\n",
       "      <td>is_delayed</td>\n",
       "      <td>INTEGER</td>\n",
       "      <td>0</td>\n",
       "      <td>0</td>\n",
       "      <td>0</td>\n",
       "    </tr>\n",
       "    <tr>\n",
       "      <th>24</th>\n",
       "      <td>24</td>\n",
       "      <td>is_auto_reply</td>\n",
       "      <td>INTEGER</td>\n",
       "      <td>0</td>\n",
       "      <td>0</td>\n",
       "      <td>0</td>\n",
       "    </tr>\n",
       "    <tr>\n",
       "      <th>25</th>\n",
       "      <td>25</td>\n",
       "      <td>is_prepared</td>\n",
       "      <td>INTEGER</td>\n",
       "      <td>0</td>\n",
       "      <td>0</td>\n",
       "      <td>0</td>\n",
       "    </tr>\n",
       "    <tr>\n",
       "      <th>26</th>\n",
       "      <td>26</td>\n",
       "      <td>is_read</td>\n",
       "      <td>INTEGER</td>\n",
       "      <td>0</td>\n",
       "      <td>0</td>\n",
       "      <td>0</td>\n",
       "    </tr>\n",
       "    <tr>\n",
       "      <th>27</th>\n",
       "      <td>27</td>\n",
       "      <td>is_system_message</td>\n",
       "      <td>INTEGER</td>\n",
       "      <td>0</td>\n",
       "      <td>0</td>\n",
       "      <td>0</td>\n",
       "    </tr>\n",
       "    <tr>\n",
       "      <th>28</th>\n",
       "      <td>28</td>\n",
       "      <td>is_sent</td>\n",
       "      <td>INTEGER</td>\n",
       "      <td>0</td>\n",
       "      <td>0</td>\n",
       "      <td>0</td>\n",
       "    </tr>\n",
       "    <tr>\n",
       "      <th>29</th>\n",
       "      <td>29</td>\n",
       "      <td>has_dd_results</td>\n",
       "      <td>INTEGER</td>\n",
       "      <td>0</td>\n",
       "      <td>0</td>\n",
       "      <td>0</td>\n",
       "    </tr>\n",
       "    <tr>\n",
       "      <th>30</th>\n",
       "      <td>30</td>\n",
       "      <td>is_service_message</td>\n",
       "      <td>INTEGER</td>\n",
       "      <td>0</td>\n",
       "      <td>0</td>\n",
       "      <td>0</td>\n",
       "    </tr>\n",
       "    <tr>\n",
       "      <th>31</th>\n",
       "      <td>31</td>\n",
       "      <td>is_forward</td>\n",
       "      <td>INTEGER</td>\n",
       "      <td>0</td>\n",
       "      <td>0</td>\n",
       "      <td>0</td>\n",
       "    </tr>\n",
       "    <tr>\n",
       "      <th>32</th>\n",
       "      <td>32</td>\n",
       "      <td>was_downgraded</td>\n",
       "      <td>INTEGER</td>\n",
       "      <td>0</td>\n",
       "      <td>0</td>\n",
       "      <td>0</td>\n",
       "    </tr>\n",
       "    <tr>\n",
       "      <th>33</th>\n",
       "      <td>33</td>\n",
       "      <td>is_archive</td>\n",
       "      <td>INTEGER</td>\n",
       "      <td>0</td>\n",
       "      <td>0</td>\n",
       "      <td>0</td>\n",
       "    </tr>\n",
       "    <tr>\n",
       "      <th>34</th>\n",
       "      <td>34</td>\n",
       "      <td>cache_has_attachments</td>\n",
       "      <td>INTEGER</td>\n",
       "      <td>0</td>\n",
       "      <td>0</td>\n",
       "      <td>0</td>\n",
       "    </tr>\n",
       "    <tr>\n",
       "      <th>35</th>\n",
       "      <td>35</td>\n",
       "      <td>cache_roomnames</td>\n",
       "      <td>TEXT</td>\n",
       "      <td>0</td>\n",
       "      <td>None</td>\n",
       "      <td>0</td>\n",
       "    </tr>\n",
       "    <tr>\n",
       "      <th>36</th>\n",
       "      <td>36</td>\n",
       "      <td>was_data_detected</td>\n",
       "      <td>INTEGER</td>\n",
       "      <td>0</td>\n",
       "      <td>0</td>\n",
       "      <td>0</td>\n",
       "    </tr>\n",
       "    <tr>\n",
       "      <th>37</th>\n",
       "      <td>37</td>\n",
       "      <td>was_deduplicated</td>\n",
       "      <td>INTEGER</td>\n",
       "      <td>0</td>\n",
       "      <td>0</td>\n",
       "      <td>0</td>\n",
       "    </tr>\n",
       "    <tr>\n",
       "      <th>38</th>\n",
       "      <td>38</td>\n",
       "      <td>is_audio_message</td>\n",
       "      <td>INTEGER</td>\n",
       "      <td>0</td>\n",
       "      <td>0</td>\n",
       "      <td>0</td>\n",
       "    </tr>\n",
       "    <tr>\n",
       "      <th>39</th>\n",
       "      <td>39</td>\n",
       "      <td>is_played</td>\n",
       "      <td>INTEGER</td>\n",
       "      <td>0</td>\n",
       "      <td>0</td>\n",
       "      <td>0</td>\n",
       "    </tr>\n",
       "    <tr>\n",
       "      <th>40</th>\n",
       "      <td>40</td>\n",
       "      <td>date_played</td>\n",
       "      <td>INTEGER</td>\n",
       "      <td>0</td>\n",
       "      <td>None</td>\n",
       "      <td>0</td>\n",
       "    </tr>\n",
       "    <tr>\n",
       "      <th>41</th>\n",
       "      <td>41</td>\n",
       "      <td>item_type</td>\n",
       "      <td>INTEGER</td>\n",
       "      <td>0</td>\n",
       "      <td>0</td>\n",
       "      <td>0</td>\n",
       "    </tr>\n",
       "    <tr>\n",
       "      <th>42</th>\n",
       "      <td>42</td>\n",
       "      <td>other_handle</td>\n",
       "      <td>INTEGER</td>\n",
       "      <td>0</td>\n",
       "      <td>0</td>\n",
       "      <td>0</td>\n",
       "    </tr>\n",
       "    <tr>\n",
       "      <th>43</th>\n",
       "      <td>43</td>\n",
       "      <td>group_title</td>\n",
       "      <td>TEXT</td>\n",
       "      <td>0</td>\n",
       "      <td>None</td>\n",
       "      <td>0</td>\n",
       "    </tr>\n",
       "    <tr>\n",
       "      <th>44</th>\n",
       "      <td>44</td>\n",
       "      <td>group_action_type</td>\n",
       "      <td>INTEGER</td>\n",
       "      <td>0</td>\n",
       "      <td>0</td>\n",
       "      <td>0</td>\n",
       "    </tr>\n",
       "    <tr>\n",
       "      <th>45</th>\n",
       "      <td>45</td>\n",
       "      <td>share_status</td>\n",
       "      <td>INTEGER</td>\n",
       "      <td>0</td>\n",
       "      <td>0</td>\n",
       "      <td>0</td>\n",
       "    </tr>\n",
       "    <tr>\n",
       "      <th>46</th>\n",
       "      <td>46</td>\n",
       "      <td>share_direction</td>\n",
       "      <td>INTEGER</td>\n",
       "      <td>0</td>\n",
       "      <td>0</td>\n",
       "      <td>0</td>\n",
       "    </tr>\n",
       "    <tr>\n",
       "      <th>47</th>\n",
       "      <td>47</td>\n",
       "      <td>is_expirable</td>\n",
       "      <td>INTEGER</td>\n",
       "      <td>0</td>\n",
       "      <td>0</td>\n",
       "      <td>0</td>\n",
       "    </tr>\n",
       "    <tr>\n",
       "      <th>48</th>\n",
       "      <td>48</td>\n",
       "      <td>expire_state</td>\n",
       "      <td>INTEGER</td>\n",
       "      <td>0</td>\n",
       "      <td>0</td>\n",
       "      <td>0</td>\n",
       "    </tr>\n",
       "    <tr>\n",
       "      <th>49</th>\n",
       "      <td>49</td>\n",
       "      <td>message_action_type</td>\n",
       "      <td>INTEGER</td>\n",
       "      <td>0</td>\n",
       "      <td>0</td>\n",
       "      <td>0</td>\n",
       "    </tr>\n",
       "    <tr>\n",
       "      <th>50</th>\n",
       "      <td>50</td>\n",
       "      <td>message_source</td>\n",
       "      <td>INTEGER</td>\n",
       "      <td>0</td>\n",
       "      <td>0</td>\n",
       "      <td>0</td>\n",
       "    </tr>\n",
       "    <tr>\n",
       "      <th>51</th>\n",
       "      <td>51</td>\n",
       "      <td>associated_message_guid</td>\n",
       "      <td>STRING</td>\n",
       "      <td>0</td>\n",
       "      <td>NULL</td>\n",
       "      <td>0</td>\n",
       "    </tr>\n",
       "    <tr>\n",
       "      <th>52</th>\n",
       "      <td>52</td>\n",
       "      <td>balloon_bundle_id</td>\n",
       "      <td>STRING</td>\n",
       "      <td>0</td>\n",
       "      <td>NULL</td>\n",
       "      <td>0</td>\n",
       "    </tr>\n",
       "    <tr>\n",
       "      <th>53</th>\n",
       "      <td>53</td>\n",
       "      <td>payload_data</td>\n",
       "      <td>BLOB</td>\n",
       "      <td>0</td>\n",
       "      <td>None</td>\n",
       "      <td>0</td>\n",
       "    </tr>\n",
       "    <tr>\n",
       "      <th>54</th>\n",
       "      <td>54</td>\n",
       "      <td>associated_message_type</td>\n",
       "      <td>INTEGER</td>\n",
       "      <td>0</td>\n",
       "      <td>0</td>\n",
       "      <td>0</td>\n",
       "    </tr>\n",
       "    <tr>\n",
       "      <th>55</th>\n",
       "      <td>55</td>\n",
       "      <td>expressive_send_style_id</td>\n",
       "      <td>STRING</td>\n",
       "      <td>0</td>\n",
       "      <td>NULL</td>\n",
       "      <td>0</td>\n",
       "    </tr>\n",
       "    <tr>\n",
       "      <th>56</th>\n",
       "      <td>56</td>\n",
       "      <td>associated_message_range_location</td>\n",
       "      <td>INTEGER</td>\n",
       "      <td>0</td>\n",
       "      <td>0</td>\n",
       "      <td>0</td>\n",
       "    </tr>\n",
       "    <tr>\n",
       "      <th>57</th>\n",
       "      <td>57</td>\n",
       "      <td>associated_message_range_length</td>\n",
       "      <td>INTEGER</td>\n",
       "      <td>0</td>\n",
       "      <td>0</td>\n",
       "      <td>0</td>\n",
       "    </tr>\n",
       "    <tr>\n",
       "      <th>58</th>\n",
       "      <td>58</td>\n",
       "      <td>time_expressive_send_played</td>\n",
       "      <td>INTEGER</td>\n",
       "      <td>0</td>\n",
       "      <td>0</td>\n",
       "      <td>0</td>\n",
       "    </tr>\n",
       "    <tr>\n",
       "      <th>59</th>\n",
       "      <td>59</td>\n",
       "      <td>message_summary_info</td>\n",
       "      <td>BLOB</td>\n",
       "      <td>0</td>\n",
       "      <td>NULL</td>\n",
       "      <td>0</td>\n",
       "    </tr>\n",
       "    <tr>\n",
       "      <th>60</th>\n",
       "      <td>60</td>\n",
       "      <td>ck_sync_state</td>\n",
       "      <td>INTEGER</td>\n",
       "      <td>0</td>\n",
       "      <td>0</td>\n",
       "      <td>0</td>\n",
       "    </tr>\n",
       "    <tr>\n",
       "      <th>61</th>\n",
       "      <td>61</td>\n",
       "      <td>ck_record_id</td>\n",
       "      <td>TEXT</td>\n",
       "      <td>0</td>\n",
       "      <td>NULL</td>\n",
       "      <td>0</td>\n",
       "    </tr>\n",
       "    <tr>\n",
       "      <th>62</th>\n",
       "      <td>62</td>\n",
       "      <td>ck_record_change_tag</td>\n",
       "      <td>TEXT</td>\n",
       "      <td>0</td>\n",
       "      <td>NULL</td>\n",
       "      <td>0</td>\n",
       "    </tr>\n",
       "    <tr>\n",
       "      <th>63</th>\n",
       "      <td>63</td>\n",
       "      <td>destination_caller_id</td>\n",
       "      <td>TEXT</td>\n",
       "      <td>0</td>\n",
       "      <td>NULL</td>\n",
       "      <td>0</td>\n",
       "    </tr>\n",
       "    <tr>\n",
       "      <th>64</th>\n",
       "      <td>64</td>\n",
       "      <td>sr_ck_sync_state</td>\n",
       "      <td>INTEGER</td>\n",
       "      <td>0</td>\n",
       "      <td>0</td>\n",
       "      <td>0</td>\n",
       "    </tr>\n",
       "    <tr>\n",
       "      <th>65</th>\n",
       "      <td>65</td>\n",
       "      <td>sr_ck_record_id</td>\n",
       "      <td>TEXT</td>\n",
       "      <td>0</td>\n",
       "      <td>NULL</td>\n",
       "      <td>0</td>\n",
       "    </tr>\n",
       "    <tr>\n",
       "      <th>66</th>\n",
       "      <td>66</td>\n",
       "      <td>sr_ck_record_change_tag</td>\n",
       "      <td>TEXT</td>\n",
       "      <td>0</td>\n",
       "      <td>NULL</td>\n",
       "      <td>0</td>\n",
       "    </tr>\n",
       "  </tbody>\n",
       "</table>\n",
       "</div>"
      ],
      "text/plain": [
       "    cid                               name     type  notnull dflt_value  pk\n",
       "0     0                              ROWID  INTEGER        0       None   1\n",
       "1     1                               guid     TEXT        1       None   0\n",
       "2     2                               text     TEXT        0       None   0\n",
       "3     3                            replace  INTEGER        0          0   0\n",
       "4     4                     service_center     TEXT        0       None   0\n",
       "5     5                          handle_id  INTEGER        0          0   0\n",
       "6     6                            subject     TEXT        0       None   0\n",
       "7     7                            country     TEXT        0       None   0\n",
       "8     8                     attributedBody     BLOB        0       None   0\n",
       "9     9                            version  INTEGER        0          0   0\n",
       "10   10                               type  INTEGER        0          0   0\n",
       "11   11                            service     TEXT        0       None   0\n",
       "12   12                            account     TEXT        0       None   0\n",
       "13   13                       account_guid     TEXT        0       None   0\n",
       "14   14                              error  INTEGER        0          0   0\n",
       "15   15                               date  INTEGER        0       None   0\n",
       "16   16                          date_read  INTEGER        0       None   0\n",
       "17   17                     date_delivered  INTEGER        0       None   0\n",
       "18   18                       is_delivered  INTEGER        0          0   0\n",
       "19   19                        is_finished  INTEGER        0          0   0\n",
       "20   20                           is_emote  INTEGER        0          0   0\n",
       "21   21                         is_from_me  INTEGER        0          0   0\n",
       "22   22                           is_empty  INTEGER        0          0   0\n",
       "23   23                         is_delayed  INTEGER        0          0   0\n",
       "24   24                      is_auto_reply  INTEGER        0          0   0\n",
       "25   25                        is_prepared  INTEGER        0          0   0\n",
       "26   26                            is_read  INTEGER        0          0   0\n",
       "27   27                  is_system_message  INTEGER        0          0   0\n",
       "28   28                            is_sent  INTEGER        0          0   0\n",
       "29   29                     has_dd_results  INTEGER        0          0   0\n",
       "30   30                 is_service_message  INTEGER        0          0   0\n",
       "31   31                         is_forward  INTEGER        0          0   0\n",
       "32   32                     was_downgraded  INTEGER        0          0   0\n",
       "33   33                         is_archive  INTEGER        0          0   0\n",
       "34   34              cache_has_attachments  INTEGER        0          0   0\n",
       "35   35                    cache_roomnames     TEXT        0       None   0\n",
       "36   36                  was_data_detected  INTEGER        0          0   0\n",
       "37   37                   was_deduplicated  INTEGER        0          0   0\n",
       "38   38                   is_audio_message  INTEGER        0          0   0\n",
       "39   39                          is_played  INTEGER        0          0   0\n",
       "40   40                        date_played  INTEGER        0       None   0\n",
       "41   41                          item_type  INTEGER        0          0   0\n",
       "42   42                       other_handle  INTEGER        0          0   0\n",
       "43   43                        group_title     TEXT        0       None   0\n",
       "44   44                  group_action_type  INTEGER        0          0   0\n",
       "45   45                       share_status  INTEGER        0          0   0\n",
       "46   46                    share_direction  INTEGER        0          0   0\n",
       "47   47                       is_expirable  INTEGER        0          0   0\n",
       "48   48                       expire_state  INTEGER        0          0   0\n",
       "49   49                message_action_type  INTEGER        0          0   0\n",
       "50   50                     message_source  INTEGER        0          0   0\n",
       "51   51            associated_message_guid   STRING        0       NULL   0\n",
       "52   52                  balloon_bundle_id   STRING        0       NULL   0\n",
       "53   53                       payload_data     BLOB        0       None   0\n",
       "54   54            associated_message_type  INTEGER        0          0   0\n",
       "55   55           expressive_send_style_id   STRING        0       NULL   0\n",
       "56   56  associated_message_range_location  INTEGER        0          0   0\n",
       "57   57    associated_message_range_length  INTEGER        0          0   0\n",
       "58   58        time_expressive_send_played  INTEGER        0          0   0\n",
       "59   59               message_summary_info     BLOB        0       NULL   0\n",
       "60   60                      ck_sync_state  INTEGER        0          0   0\n",
       "61   61                       ck_record_id     TEXT        0       NULL   0\n",
       "62   62               ck_record_change_tag     TEXT        0       NULL   0\n",
       "63   63              destination_caller_id     TEXT        0       NULL   0\n",
       "64   64                   sr_ck_sync_state  INTEGER        0          0   0\n",
       "65   65                    sr_ck_record_id     TEXT        0       NULL   0\n",
       "66   66            sr_ck_record_change_tag     TEXT        0       NULL   0"
      ]
     },
     "execution_count": 4,
     "metadata": {},
     "output_type": "execute_result"
    }
   ],
   "source": [
    "conn = sqlite3.connect(chat_db, check_same_thread=False)\n",
    "query = '''\n",
    "        PRAGMA table_info (message);\n",
    "        '''\n",
    "df = pd.read_sql_query(query, conn)\n",
    "\n",
    "pd.set_option('display.max_rows', 1000) # Display all columns\n",
    "df"
   ]
  },
  {
   "cell_type": "markdown",
   "metadata": {
    "slideshow": {
     "slide_type": "subslide"
    }
   },
   "source": [
    "Ok, that's all our data that we want to look at! The **text** column looks promising, that should be our messages.\n",
    "\n",
    "Let's get a small slice of our dataframe and see what we get."
   ]
  },
  {
   "cell_type": "code",
   "execution_count": 5,
   "metadata": {
    "slideshow": {
     "slide_type": "fragment"
    }
   },
   "outputs": [
    {
     "data": {
      "text/html": [
       "<div>\n",
       "<style>\n",
       "    .dataframe thead tr:only-child th {\n",
       "        text-align: right;\n",
       "    }\n",
       "\n",
       "    .dataframe thead th {\n",
       "        text-align: left;\n",
       "    }\n",
       "\n",
       "    .dataframe tbody tr th {\n",
       "        vertical-align: top;\n",
       "    }\n",
       "</style>\n",
       "<table border=\"1\" class=\"dataframe\">\n",
       "  <thead>\n",
       "    <tr style=\"text-align: right;\">\n",
       "      <th></th>\n",
       "      <th>ROWID</th>\n",
       "      <th>date</th>\n",
       "      <th>text</th>\n",
       "    </tr>\n",
       "  </thead>\n",
       "  <tbody>\n",
       "    <tr>\n",
       "      <th>0</th>\n",
       "      <td>218</td>\n",
       "      <td>477363211000000000</td>\n",
       "      <td>2degrees alert: Just a reminder that your bala...</td>\n",
       "    </tr>\n",
       "    <tr>\n",
       "      <th>1</th>\n",
       "      <td>219</td>\n",
       "      <td>477363211000000000</td>\n",
       "      <td>2degrees alert: You don't have enough credit t...</td>\n",
       "    </tr>\n",
       "    <tr>\n",
       "      <th>2</th>\n",
       "      <td>220</td>\n",
       "      <td>477368362000000000</td>\n",
       "      <td>How's Australia? Settling in?</td>\n",
       "    </tr>\n",
       "    <tr>\n",
       "      <th>3</th>\n",
       "      <td>296</td>\n",
       "      <td>477532796000000000</td>\n",
       "      <td>2degrees alert: Just a reminder that your bala...</td>\n",
       "    </tr>\n",
       "    <tr>\n",
       "      <th>4</th>\n",
       "      <td>298</td>\n",
       "      <td>477532796000000000</td>\n",
       "      <td>2degrees alert: You don't have enough credit t...</td>\n",
       "    </tr>\n",
       "  </tbody>\n",
       "</table>\n",
       "</div>"
      ],
      "text/plain": [
       "   ROWID                date  \\\n",
       "0    218  477363211000000000   \n",
       "1    219  477363211000000000   \n",
       "2    220  477368362000000000   \n",
       "3    296  477532796000000000   \n",
       "4    298  477532796000000000   \n",
       "\n",
       "                                                text  \n",
       "0  2degrees alert: Just a reminder that your bala...  \n",
       "1  2degrees alert: You don't have enough credit t...  \n",
       "2                      How's Australia? Settling in?  \n",
       "3  2degrees alert: Just a reminder that your bala...  \n",
       "4  2degrees alert: You don't have enough credit t...  "
      ]
     },
     "execution_count": 5,
     "metadata": {},
     "output_type": "execute_result"
    }
   ],
   "source": [
    "conn = sqlite3.connect(chat_db, check_same_thread=False)\n",
    "query = '''\n",
    "        SELECT ROWID, date, text \n",
    "        FROM message;\n",
    "        '''\n",
    "df = pd.read_sql_query(query, conn)\n",
    "df[:5]"
   ]
  },
  {
   "cell_type": "markdown",
   "metadata": {
    "slideshow": {
     "slide_type": "fragment"
    }
   },
   "source": [
    "However, those dates look pretty funky. I wonder why that is? \n",
    "It doesn't *look* like Unix time - there's too many digits."
   ]
  },
  {
   "cell_type": "markdown",
   "metadata": {
    "slideshow": {
     "slide_type": "subslide"
    }
   },
   "source": [
    "## Time Conversions\n",
    "\n",
    "### Unix Time\n",
    "- Number of seconds that have elapsed since **Midnight, January 1 1970 GMT**\n",
    "\n",
    "### Core Foundation (CF) Absolute Time\n",
    "- Number of seconds elapsed since **Midnight, January 1 2001 UTC**\n",
    "- Prior to High Sierra: `datetime(message.date + strftime(\"%s\", \"2001-01-01\") ,\"unixepoch\",\"localtime\"`\n",
    "- Release of High Sierra (macOS 10.13) means this is now padded with extra 0's\n",
    "- Now use `datetime(message.date/1000000000 + strftime(\"%s\", \"2001-01-01\") ,\"unixepoch\",\"localtime\"`"
   ]
  },
  {
   "cell_type": "markdown",
   "metadata": {
    "slideshow": {
     "slide_type": "notes"
    }
   },
   "source": [
    "### Unix Time\n",
    "\n",
    "If you aren't familiar with **Unix time**, it's the number of seconds that have elapsed since Midnight, January 1 1970 GMT. In computer systems, it is stored as a signed 32 bit integer, which is a value up to 2<sup>31-1</sup>, or up to 2,147,483,647 seconds after 1 January 1970. [1]\n",
    "\n",
    "Aside: this means it's going to run into issues on the January 19, 2038 due to a 32-bit overflow! Time will be meaningless! It'll be the Y2K thing all over again.\n",
    "\n",
    "Why wasn't unix time stored as an unsigned integer? I don't know!  `¯\\_(ツ)_/¯ `\n",
    "\n",
    "### CF Absolute Time (Mac)\n",
    "\n",
    "But this date has 18 digits, which is too many! Turns out, this is actually **Core Foundation (CF) Absolute Time**.\n",
    "\n",
    "This is how iMessage time data is stored on your Mac, and is the number of seconds elapsed since Midnight, January 1 2001 UTC. Like Unix time, it is also represented as a 32 bit integer (unsigned or signed?)\n",
    "\n",
    "However, that changed since the release of High Sierra (macOS 10.13). I'm trying to find the reference for this but I can't remember where I saw it, so you'll need to convert the time.\n",
    "\n",
    "`datetime(message.date/1000000000 + strftime(\"%s\", \"2001-01-01\") ,\"unixepoch\",\"localtime\"`\n",
    "\n",
    "(so, you'll need to adjust the date conversion expression if you're running a version of macOS below this).\n",
    "\n",
    "`datetime(message.date + strftime(\"%s\", \"2001-01-01\") ,\"unixepoch\",\"localtime\"`\n",
    "\n"
   ]
  },
  {
   "cell_type": "code",
   "execution_count": 6,
   "metadata": {
    "slideshow": {
     "slide_type": "subslide"
    }
   },
   "outputs": [
    {
     "data": {
      "text/html": [
       "<div>\n",
       "<style>\n",
       "    .dataframe thead tr:only-child th {\n",
       "        text-align: right;\n",
       "    }\n",
       "\n",
       "    .dataframe thead th {\n",
       "        text-align: left;\n",
       "    }\n",
       "\n",
       "    .dataframe tbody tr th {\n",
       "        vertical-align: top;\n",
       "    }\n",
       "</style>\n",
       "<table border=\"1\" class=\"dataframe\">\n",
       "  <thead>\n",
       "    <tr style=\"text-align: right;\">\n",
       "      <th></th>\n",
       "      <th>ROWID</th>\n",
       "      <th>text</th>\n",
       "      <th>date</th>\n",
       "    </tr>\n",
       "  </thead>\n",
       "  <tbody>\n",
       "    <tr>\n",
       "      <th>0</th>\n",
       "      <td>218</td>\n",
       "      <td>2degrees alert: Just a reminder that your bala...</td>\n",
       "      <td>2016-02-16 19:53:31</td>\n",
       "    </tr>\n",
       "    <tr>\n",
       "      <th>1</th>\n",
       "      <td>219</td>\n",
       "      <td>2degrees alert: You don't have enough credit t...</td>\n",
       "      <td>2016-02-16 19:53:31</td>\n",
       "    </tr>\n",
       "    <tr>\n",
       "      <th>2</th>\n",
       "      <td>220</td>\n",
       "      <td>How's Australia? Settling in?</td>\n",
       "      <td>2016-02-16 21:19:22</td>\n",
       "    </tr>\n",
       "    <tr>\n",
       "      <th>3</th>\n",
       "      <td>296</td>\n",
       "      <td>2degrees alert: Just a reminder that your bala...</td>\n",
       "      <td>2016-02-18 18:59:56</td>\n",
       "    </tr>\n",
       "    <tr>\n",
       "      <th>4</th>\n",
       "      <td>298</td>\n",
       "      <td>2degrees alert: You don't have enough credit t...</td>\n",
       "      <td>2016-02-18 18:59:56</td>\n",
       "    </tr>\n",
       "  </tbody>\n",
       "</table>\n",
       "</div>"
      ],
      "text/plain": [
       "   ROWID                                               text  \\\n",
       "0    218  2degrees alert: Just a reminder that your bala...   \n",
       "1    219  2degrees alert: You don't have enough credit t...   \n",
       "2    220                      How's Australia? Settling in?   \n",
       "3    296  2degrees alert: Just a reminder that your bala...   \n",
       "4    298  2degrees alert: You don't have enough credit t...   \n",
       "\n",
       "                  date  \n",
       "0  2016-02-16 19:53:31  \n",
       "1  2016-02-16 19:53:31  \n",
       "2  2016-02-16 21:19:22  \n",
       "3  2016-02-18 18:59:56  \n",
       "4  2016-02-18 18:59:56  "
      ]
     },
     "execution_count": 6,
     "metadata": {},
     "output_type": "execute_result"
    }
   ],
   "source": [
    "conn = sqlite3.connect(chat_db, check_same_thread=False)\n",
    "query = '''\n",
    "        SELECT ROWID, text,\n",
    "        datetime(message.date/1000000000 + strftime(\"%s\", \"2001-01-01\") ,\"unixepoch\",\"localtime\") as date\n",
    "        FROM `message`;\n",
    "        '''\n",
    "df = pd.read_sql_query(query, conn)\n",
    "df[:5]"
   ]
  },
  {
   "cell_type": "markdown",
   "metadata": {
    "slideshow": {
     "slide_type": "fragment"
    }
   },
   "source": [
    "That is a much more reasonable date to deal with!"
   ]
  },
  {
   "cell_type": "markdown",
   "metadata": {
    "slideshow": {
     "slide_type": "slide"
    }
   },
   "source": [
    "# iMessage Stats\n",
    "\n",
    "Great! Now that we have our content, we should deep dive into it.\n",
    "\n",
    "DataFrames have a neat **describe** function which looks at the numerical data in your dataframe."
   ]
  },
  {
   "cell_type": "code",
   "execution_count": 7,
   "metadata": {
    "slideshow": {
     "slide_type": "fragment"
    }
   },
   "outputs": [
    {
     "data": {
      "text/html": [
       "<div>\n",
       "<style>\n",
       "    .dataframe thead tr:only-child th {\n",
       "        text-align: right;\n",
       "    }\n",
       "\n",
       "    .dataframe thead th {\n",
       "        text-align: left;\n",
       "    }\n",
       "\n",
       "    .dataframe tbody tr th {\n",
       "        vertical-align: top;\n",
       "    }\n",
       "</style>\n",
       "<table border=\"1\" class=\"dataframe\">\n",
       "  <thead>\n",
       "    <tr style=\"text-align: right;\">\n",
       "      <th></th>\n",
       "      <th>ROWID</th>\n",
       "      <th>replace</th>\n",
       "      <th>handle_id</th>\n",
       "      <th>version</th>\n",
       "      <th>type</th>\n",
       "      <th>error</th>\n",
       "      <th>date</th>\n",
       "      <th>date_read</th>\n",
       "      <th>date_delivered</th>\n",
       "      <th>is_delivered</th>\n",
       "      <th>...</th>\n",
       "      <th>is_expirable</th>\n",
       "      <th>expire_state</th>\n",
       "      <th>message_action_type</th>\n",
       "      <th>message_source</th>\n",
       "      <th>associated_message_type</th>\n",
       "      <th>associated_message_range_location</th>\n",
       "      <th>associated_message_range_length</th>\n",
       "      <th>time_expressive_send_played</th>\n",
       "      <th>ck_sync_state</th>\n",
       "      <th>sr_ck_sync_state</th>\n",
       "    </tr>\n",
       "  </thead>\n",
       "  <tbody>\n",
       "    <tr>\n",
       "      <th>count</th>\n",
       "      <td>15236.000000</td>\n",
       "      <td>15236.000000</td>\n",
       "      <td>15236.000000</td>\n",
       "      <td>15236.0</td>\n",
       "      <td>15236.000000</td>\n",
       "      <td>15236.000000</td>\n",
       "      <td>1.523600e+04</td>\n",
       "      <td>1.523600e+04</td>\n",
       "      <td>1.523600e+04</td>\n",
       "      <td>15236.000000</td>\n",
       "      <td>...</td>\n",
       "      <td>15236.0</td>\n",
       "      <td>15236.000000</td>\n",
       "      <td>15236.0</td>\n",
       "      <td>15236.0</td>\n",
       "      <td>15236.000000</td>\n",
       "      <td>15236.000000</td>\n",
       "      <td>15236.000000</td>\n",
       "      <td>15236.0</td>\n",
       "      <td>15236.0</td>\n",
       "      <td>15236.0</td>\n",
       "    </tr>\n",
       "    <tr>\n",
       "      <th>mean</th>\n",
       "      <td>14682.998884</td>\n",
       "      <td>0.000328</td>\n",
       "      <td>46.923865</td>\n",
       "      <td>10.0</td>\n",
       "      <td>0.019296</td>\n",
       "      <td>0.009911</td>\n",
       "      <td>5.257533e+17</td>\n",
       "      <td>2.271642e+16</td>\n",
       "      <td>4.708073e+16</td>\n",
       "      <td>0.968233</td>\n",
       "      <td>...</td>\n",
       "      <td>0.0</td>\n",
       "      <td>0.001181</td>\n",
       "      <td>0.0</td>\n",
       "      <td>0.0</td>\n",
       "      <td>1.444342</td>\n",
       "      <td>0.002166</td>\n",
       "      <td>0.028813</td>\n",
       "      <td>0.0</td>\n",
       "      <td>0.0</td>\n",
       "      <td>0.0</td>\n",
       "    </tr>\n",
       "    <tr>\n",
       "      <th>std</th>\n",
       "      <td>4482.125912</td>\n",
       "      <td>0.018113</td>\n",
       "      <td>14.681128</td>\n",
       "      <td>0.0</td>\n",
       "      <td>0.137569</td>\n",
       "      <td>0.393373</td>\n",
       "      <td>1.819170e+16</td>\n",
       "      <td>1.090301e+17</td>\n",
       "      <td>1.533933e+17</td>\n",
       "      <td>0.175385</td>\n",
       "      <td>...</td>\n",
       "      <td>0.0</td>\n",
       "      <td>0.059524</td>\n",
       "      <td>0.0</td>\n",
       "      <td>0.0</td>\n",
       "      <td>53.736171</td>\n",
       "      <td>0.267349</td>\n",
       "      <td>1.635798</td>\n",
       "      <td>0.0</td>\n",
       "      <td>0.0</td>\n",
       "      <td>0.0</td>\n",
       "    </tr>\n",
       "    <tr>\n",
       "      <th>min</th>\n",
       "      <td>218.000000</td>\n",
       "      <td>0.000000</td>\n",
       "      <td>0.000000</td>\n",
       "      <td>10.0</td>\n",
       "      <td>0.000000</td>\n",
       "      <td>0.000000</td>\n",
       "      <td>4.773632e+17</td>\n",
       "      <td>0.000000e+00</td>\n",
       "      <td>0.000000e+00</td>\n",
       "      <td>0.000000</td>\n",
       "      <td>...</td>\n",
       "      <td>0.0</td>\n",
       "      <td>0.000000</td>\n",
       "      <td>0.0</td>\n",
       "      <td>0.0</td>\n",
       "      <td>0.000000</td>\n",
       "      <td>0.000000</td>\n",
       "      <td>0.000000</td>\n",
       "      <td>0.0</td>\n",
       "      <td>0.0</td>\n",
       "      <td>0.0</td>\n",
       "    </tr>\n",
       "    <tr>\n",
       "      <th>25%</th>\n",
       "      <td>10911.750000</td>\n",
       "      <td>0.000000</td>\n",
       "      <td>41.000000</td>\n",
       "      <td>10.0</td>\n",
       "      <td>0.000000</td>\n",
       "      <td>0.000000</td>\n",
       "      <td>5.107401e+17</td>\n",
       "      <td>0.000000e+00</td>\n",
       "      <td>0.000000e+00</td>\n",
       "      <td>1.000000</td>\n",
       "      <td>...</td>\n",
       "      <td>0.0</td>\n",
       "      <td>0.000000</td>\n",
       "      <td>0.0</td>\n",
       "      <td>0.0</td>\n",
       "      <td>0.000000</td>\n",
       "      <td>0.000000</td>\n",
       "      <td>0.000000</td>\n",
       "      <td>0.0</td>\n",
       "      <td>0.0</td>\n",
       "      <td>0.0</td>\n",
       "    </tr>\n",
       "    <tr>\n",
       "      <th>50%</th>\n",
       "      <td>14720.500000</td>\n",
       "      <td>0.000000</td>\n",
       "      <td>47.000000</td>\n",
       "      <td>10.0</td>\n",
       "      <td>0.000000</td>\n",
       "      <td>0.000000</td>\n",
       "      <td>5.255981e+17</td>\n",
       "      <td>0.000000e+00</td>\n",
       "      <td>0.000000e+00</td>\n",
       "      <td>1.000000</td>\n",
       "      <td>...</td>\n",
       "      <td>0.0</td>\n",
       "      <td>0.000000</td>\n",
       "      <td>0.0</td>\n",
       "      <td>0.0</td>\n",
       "      <td>0.000000</td>\n",
       "      <td>0.000000</td>\n",
       "      <td>0.000000</td>\n",
       "      <td>0.0</td>\n",
       "      <td>0.0</td>\n",
       "      <td>0.0</td>\n",
       "    </tr>\n",
       "    <tr>\n",
       "      <th>75%</th>\n",
       "      <td>18533.250000</td>\n",
       "      <td>0.000000</td>\n",
       "      <td>47.000000</td>\n",
       "      <td>10.0</td>\n",
       "      <td>0.000000</td>\n",
       "      <td>0.000000</td>\n",
       "      <td>5.418992e+17</td>\n",
       "      <td>0.000000e+00</td>\n",
       "      <td>5.135253e+08</td>\n",
       "      <td>1.000000</td>\n",
       "      <td>...</td>\n",
       "      <td>0.0</td>\n",
       "      <td>0.000000</td>\n",
       "      <td>0.0</td>\n",
       "      <td>0.0</td>\n",
       "      <td>0.000000</td>\n",
       "      <td>0.000000</td>\n",
       "      <td>0.000000</td>\n",
       "      <td>0.0</td>\n",
       "      <td>0.0</td>\n",
       "      <td>0.0</td>\n",
       "    </tr>\n",
       "    <tr>\n",
       "      <th>max</th>\n",
       "      <td>22346.000000</td>\n",
       "      <td>1.000000</td>\n",
       "      <td>144.000000</td>\n",
       "      <td>10.0</td>\n",
       "      <td>1.000000</td>\n",
       "      <td>39.000000</td>\n",
       "      <td>5.561534e+17</td>\n",
       "      <td>5.561426e+17</td>\n",
       "      <td>5.561426e+17</td>\n",
       "      <td>1.000000</td>\n",
       "      <td>...</td>\n",
       "      <td>0.0</td>\n",
       "      <td>3.000000</td>\n",
       "      <td>0.0</td>\n",
       "      <td>0.0</td>\n",
       "      <td>2001.000000</td>\n",
       "      <td>33.000000</td>\n",
       "      <td>145.000000</td>\n",
       "      <td>0.0</td>\n",
       "      <td>0.0</td>\n",
       "      <td>0.0</td>\n",
       "    </tr>\n",
       "  </tbody>\n",
       "</table>\n",
       "<p>8 rows × 46 columns</p>\n",
       "</div>"
      ],
      "text/plain": [
       "              ROWID       replace     handle_id  version          type  \\\n",
       "count  15236.000000  15236.000000  15236.000000  15236.0  15236.000000   \n",
       "mean   14682.998884      0.000328     46.923865     10.0      0.019296   \n",
       "std     4482.125912      0.018113     14.681128      0.0      0.137569   \n",
       "min      218.000000      0.000000      0.000000     10.0      0.000000   \n",
       "25%    10911.750000      0.000000     41.000000     10.0      0.000000   \n",
       "50%    14720.500000      0.000000     47.000000     10.0      0.000000   \n",
       "75%    18533.250000      0.000000     47.000000     10.0      0.000000   \n",
       "max    22346.000000      1.000000    144.000000     10.0      1.000000   \n",
       "\n",
       "              error          date     date_read  date_delivered  is_delivered  \\\n",
       "count  15236.000000  1.523600e+04  1.523600e+04    1.523600e+04  15236.000000   \n",
       "mean       0.009911  5.257533e+17  2.271642e+16    4.708073e+16      0.968233   \n",
       "std        0.393373  1.819170e+16  1.090301e+17    1.533933e+17      0.175385   \n",
       "min        0.000000  4.773632e+17  0.000000e+00    0.000000e+00      0.000000   \n",
       "25%        0.000000  5.107401e+17  0.000000e+00    0.000000e+00      1.000000   \n",
       "50%        0.000000  5.255981e+17  0.000000e+00    0.000000e+00      1.000000   \n",
       "75%        0.000000  5.418992e+17  0.000000e+00    5.135253e+08      1.000000   \n",
       "max       39.000000  5.561534e+17  5.561426e+17    5.561426e+17      1.000000   \n",
       "\n",
       "             ...         is_expirable  expire_state  message_action_type  \\\n",
       "count        ...              15236.0  15236.000000              15236.0   \n",
       "mean         ...                  0.0      0.001181                  0.0   \n",
       "std          ...                  0.0      0.059524                  0.0   \n",
       "min          ...                  0.0      0.000000                  0.0   \n",
       "25%          ...                  0.0      0.000000                  0.0   \n",
       "50%          ...                  0.0      0.000000                  0.0   \n",
       "75%          ...                  0.0      0.000000                  0.0   \n",
       "max          ...                  0.0      3.000000                  0.0   \n",
       "\n",
       "       message_source  associated_message_type  \\\n",
       "count         15236.0             15236.000000   \n",
       "mean              0.0                 1.444342   \n",
       "std               0.0                53.736171   \n",
       "min               0.0                 0.000000   \n",
       "25%               0.0                 0.000000   \n",
       "50%               0.0                 0.000000   \n",
       "75%               0.0                 0.000000   \n",
       "max               0.0              2001.000000   \n",
       "\n",
       "       associated_message_range_location  associated_message_range_length  \\\n",
       "count                       15236.000000                     15236.000000   \n",
       "mean                            0.002166                         0.028813   \n",
       "std                             0.267349                         1.635798   \n",
       "min                             0.000000                         0.000000   \n",
       "25%                             0.000000                         0.000000   \n",
       "50%                             0.000000                         0.000000   \n",
       "75%                             0.000000                         0.000000   \n",
       "max                            33.000000                       145.000000   \n",
       "\n",
       "       time_expressive_send_played  ck_sync_state  sr_ck_sync_state  \n",
       "count                      15236.0        15236.0           15236.0  \n",
       "mean                           0.0            0.0               0.0  \n",
       "std                            0.0            0.0               0.0  \n",
       "min                            0.0            0.0               0.0  \n",
       "25%                            0.0            0.0               0.0  \n",
       "50%                            0.0            0.0               0.0  \n",
       "75%                            0.0            0.0               0.0  \n",
       "max                            0.0            0.0               0.0  \n",
       "\n",
       "[8 rows x 46 columns]"
      ]
     },
     "execution_count": 7,
     "metadata": {},
     "output_type": "execute_result"
    }
   ],
   "source": [
    "conn = sqlite3.connect(chat_db, check_same_thread=False)        \n",
    "query = '''\n",
    "        SELECT * \n",
    "        FROM `message`;\n",
    "        '''\n",
    "df = pd.read_sql_query(query, conn)\n",
    "\n",
    "df.describe()"
   ]
  },
  {
   "cell_type": "markdown",
   "metadata": {
    "slideshow": {
     "slide_type": "subslide"
    }
   },
   "source": [
    "## Number of Messages\n",
    "As of right now, how many messages do I have in total?"
   ]
  },
  {
   "cell_type": "code",
   "execution_count": 8,
   "metadata": {
    "slideshow": {
     "slide_type": "fragment"
    }
   },
   "outputs": [
    {
     "data": {
      "text/plain": [
       "15236"
      ]
     },
     "execution_count": 8,
     "metadata": {},
     "output_type": "execute_result"
    }
   ],
   "source": [
    "conn = sqlite3.connect(chat_db, check_same_thread=False)        \n",
    "query = '''\n",
    "        SELECT count(ROWID) as count \n",
    "        FROM `message`;\n",
    "        '''\n",
    "df = pd.read_sql_query(query, conn)\n",
    "number_of_messages = df['count'][0]\n",
    "number_of_messages"
   ]
  },
  {
   "cell_type": "markdown",
   "metadata": {
    "slideshow": {
     "slide_type": "subslide"
    }
   },
   "source": [
    "## Message Breakdown\n",
    "\n",
    "How many of them are from me, and how many are from everyone else?"
   ]
  },
  {
   "cell_type": "code",
   "execution_count": 9,
   "metadata": {
    "scrolled": true,
    "slideshow": {
     "slide_type": "fragment"
    }
   },
   "outputs": [
    {
     "data": {
      "text/html": [
       "<div>\n",
       "<style>\n",
       "    .dataframe thead tr:only-child th {\n",
       "        text-align: right;\n",
       "    }\n",
       "\n",
       "    .dataframe thead th {\n",
       "        text-align: left;\n",
       "    }\n",
       "\n",
       "    .dataframe tbody tr th {\n",
       "        vertical-align: top;\n",
       "    }\n",
       "</style>\n",
       "<table border=\"1\" class=\"dataframe\">\n",
       "  <thead>\n",
       "    <tr style=\"text-align: right;\">\n",
       "      <th></th>\n",
       "      <th>from_me</th>\n",
       "      <th>from_others</th>\n",
       "      <th>total</th>\n",
       "    </tr>\n",
       "  </thead>\n",
       "  <tbody>\n",
       "    <tr>\n",
       "      <th>0</th>\n",
       "      <td>7980</td>\n",
       "      <td>7256</td>\n",
       "      <td>15236</td>\n",
       "    </tr>\n",
       "  </tbody>\n",
       "</table>\n",
       "</div>"
      ],
      "text/plain": [
       "   from_me  from_others  total\n",
       "0     7980         7256  15236"
      ]
     },
     "execution_count": 9,
     "metadata": {},
     "output_type": "execute_result"
    }
   ],
   "source": [
    "conn = sqlite3.connect(chat_db, check_same_thread=False)        \n",
    "\n",
    "query = '''\n",
    "        SELECT\n",
    "        sum(case when is_from_me = 1 then 1 else 0 end) as from_me,\n",
    "        sum(case when is_from_me = 0 then 1 else 0 end) as from_others,\n",
    "        count(ROWID) as total\n",
    "        FROM `message`\n",
    "        '''\n",
    "\n",
    "df = pd.read_sql_query(query, conn)\n",
    "df"
   ]
  },
  {
   "cell_type": "markdown",
   "metadata": {
    "slideshow": {
     "slide_type": "subslide"
    }
   },
   "source": [
    "## Average Number of Messages Exchanged Per Day\n"
   ]
  },
  {
   "cell_type": "code",
   "execution_count": 10,
   "metadata": {
    "slideshow": {
     "slide_type": "fragment"
    }
   },
   "outputs": [
    {
     "data": {
      "text/html": [
       "<div>\n",
       "<style>\n",
       "    .dataframe thead tr:only-child th {\n",
       "        text-align: right;\n",
       "    }\n",
       "\n",
       "    .dataframe thead th {\n",
       "        text-align: left;\n",
       "    }\n",
       "\n",
       "    .dataframe tbody tr th {\n",
       "        vertical-align: top;\n",
       "    }\n",
       "</style>\n",
       "<table border=\"1\" class=\"dataframe\">\n",
       "  <thead>\n",
       "    <tr style=\"text-align: right;\">\n",
       "      <th></th>\n",
       "      <th>min_date</th>\n",
       "      <th>max_date</th>\n",
       "    </tr>\n",
       "  </thead>\n",
       "  <tbody>\n",
       "    <tr>\n",
       "      <th>0</th>\n",
       "      <td>2016-02-16 19:53:31</td>\n",
       "      <td>2018-08-16 19:02:37</td>\n",
       "    </tr>\n",
       "  </tbody>\n",
       "</table>\n",
       "</div>"
      ],
      "text/plain": [
       "              min_date             max_date\n",
       "0  2016-02-16 19:53:31  2018-08-16 19:02:37"
      ]
     },
     "execution_count": 10,
     "metadata": {},
     "output_type": "execute_result"
    }
   ],
   "source": [
    "conn = sqlite3.connect(chat_db, check_same_thread=False)\n",
    "date_time_conversion = 'datetime(message.date/1000000000 + strftime(\"%s\", \"2001-01-01\") ,\"unixepoch\",\"localtime\")'\n",
    "query = '''\n",
    "        SELECT min({}) as min_date, max({}) as max_date\n",
    "        FROM `message`;\n",
    "        '''.format(date_time_conversion, date_time_conversion)\n",
    "        \n",
    "df = pd.read_sql_query(query, conn)\n",
    "df"
   ]
  },
  {
   "cell_type": "code",
   "execution_count": 11,
   "metadata": {
    "slideshow": {
     "slide_type": "fragment"
    }
   },
   "outputs": [
    {
     "name": "stdout",
     "output_type": "stream",
     "text": [
      "I exchange 16.724 messages on average per day.\n"
     ]
    }
   ],
   "source": [
    "min_date_string = df['min_date'][0]\n",
    "min_date = datetime.strptime(min_date_string, \"%Y-%m-%d %H:%M:%S\")\n",
    "\n",
    "max_date_string = df['max_date'][0]\n",
    "max_date = datetime.strptime(max_date_string, \"%Y-%m-%d %H:%M:%S\")\n",
    "\n",
    "delta = (max_date - min_date).days\n",
    "\n",
    "average = number_of_messages / delta\n",
    "print('I exchange {:.3f} messages on average per day.'.format(average))"
   ]
  },
  {
   "cell_type": "markdown",
   "metadata": {
    "slideshow": {
     "slide_type": "subslide"
    }
   },
   "source": [
    "## How many did I actually exchange per day?"
   ]
  },
  {
   "cell_type": "code",
   "execution_count": 12,
   "metadata": {
    "collapsed": true,
    "slideshow": {
     "slide_type": "skip"
    }
   },
   "outputs": [],
   "source": [
    "conn = sqlite3.connect(chat_db, check_same_thread=False)\n",
    "query = '''\n",
    "        SELECT ROWID, text,\n",
    "        datetime(message.date/1000000000 + strftime(\"%s\", \"2001-01-01\"), \"unixepoch\",\"localtime\") as date\n",
    "        FROM `message`;\n",
    "        '''\n",
    "df = pd.read_sql_query(query, conn)"
   ]
  },
  {
   "cell_type": "code",
   "execution_count": 13,
   "metadata": {
    "slideshow": {
     "slide_type": "fragment"
    }
   },
   "outputs": [
    {
     "data": {
      "image/png": "[encoded data removed]",
      "text/plain": [
       "<matplotlib.figure.Figure at 0x114cca4e0>"
      ]
     },
     "metadata": {},
     "output_type": "display_data"
    }
   ],
   "source": [
    "df['Dates'] = df['date'].apply(lambda x: x[:10])\n",
    "\n",
    "frequencies = df.groupby('Dates')['ROWID'].count()\n",
    "frequencies.plot(kind='line', figsize=(15, 10))\n",
    "plt.show()"
   ]
  },
  {
   "cell_type": "markdown",
   "metadata": {
    "slideshow": {
     "slide_type": "subslide"
    }
   },
   "source": [
    "## Who have I messaged the most? "
   ]
  },
  {
   "cell_type": "code",
   "execution_count": 14,
   "metadata": {
    "slideshow": {
     "slide_type": "fragment"
    }
   },
   "outputs": [
    {
     "data": {
      "image/png": "[encoded data removed]",
      "text/plain": [
       "<matplotlib.figure.Figure at 0x1163bc860>"
      ]
     },
     "metadata": {},
     "output_type": "display_data"
    }
   ],
   "source": [
    "conn = sqlite3.connect(chat_db, check_same_thread=False)\n",
    "query = '''\n",
    "        SELECT count(handle.ROWID) as total, handle.id, message.text \n",
    "        FROM `handle` JOIN `message` \n",
    "        ON handle.ROWID = message.handle_id \n",
    "        GROUP BY handle.id \n",
    "        ORDER BY total DESC \n",
    "        LIMIT 10;\n",
    "        '''\n",
    "df = pd.read_sql_query(query, conn)\n",
    "#my_plot = df.plot(kind='bar', x=df['id']) # display who they are\n",
    "\n",
    "my_plot = df.plot(kind='bar')\n",
    "my_plot.set_xlabel(\"Contacts\")\n",
    "my_plot.set_ylabel(\"Exchanged messages\")\n",
    "plt.show()"
   ]
  },
  {
   "cell_type": "markdown",
   "metadata": {
    "slideshow": {
     "slide_type": "slide"
    }
   },
   "source": [
    "## Using NLTK\n",
    "\n",
    "First, let's get every message that I've ever sent."
   ]
  },
  {
   "cell_type": "code",
   "execution_count": 18,
   "metadata": {
    "slideshow": {
     "slide_type": "fragment"
    }
   },
   "outputs": [
    {
     "data": {
      "text/html": [
       "<div>\n",
       "<style>\n",
       "    .dataframe thead tr:only-child th {\n",
       "        text-align: right;\n",
       "    }\n",
       "\n",
       "    .dataframe thead th {\n",
       "        text-align: left;\n",
       "    }\n",
       "\n",
       "    .dataframe tbody tr th {\n",
       "        vertical-align: top;\n",
       "    }\n",
       "</style>\n",
       "<table border=\"1\" class=\"dataframe\">\n",
       "  <thead>\n",
       "    <tr style=\"text-align: right;\">\n",
       "      <th></th>\n",
       "      <th>text</th>\n",
       "    </tr>\n",
       "  </thead>\n",
       "  <tbody>\n",
       "    <tr>\n",
       "      <th>0</th>\n",
       "      <td>All done, heading back now</td>\n",
       "    </tr>\n",
       "    <tr>\n",
       "      <th>1</th>\n",
       "      <td>What gate did you arrive at? I'm at arrivals B</td>\n",
       "    </tr>\n",
       "    <tr>\n",
       "      <th>2</th>\n",
       "      <td>Did you fly air nz?</td>\n",
       "    </tr>\n",
       "  </tbody>\n",
       "</table>\n",
       "</div>"
      ],
      "text/plain": [
       "                                             text\n",
       "0                     All done, heading back now \n",
       "1  What gate did you arrive at? I'm at arrivals B\n",
       "2                             Did you fly air nz?"
      ]
     },
     "execution_count": 18,
     "metadata": {},
     "output_type": "execute_result"
    }
   ],
   "source": [
    "conn = sqlite3.connect(chat_db, check_same_thread=False)        \n",
    "\n",
    "query = '''\n",
    "        SELECT\n",
    "        text\n",
    "        FROM `message`\n",
    "        WHERE is_from_me = 1\n",
    "        '''\n",
    "\n",
    "my_imessage_df = pd.read_sql_query(query, conn)\n",
    "my_imessage_df[:3]"
   ]
  },
  {
   "cell_type": "markdown",
   "metadata": {
    "slideshow": {
     "slide_type": "subslide"
    }
   },
   "source": [
    "Let's create an NLTK Text object that we can perform operations on.\n",
    "\n",
    "We tokenize every message we've sent, and combine them all together to make a novel."
   ]
  },
  {
   "cell_type": "code",
   "execution_count": 19,
   "metadata": {
    "slideshow": {
     "slide_type": "fragment"
    }
   },
   "outputs": [
    {
     "data": {
      "text/plain": [
       "<Text: All done , heading back now What gate...>"
      ]
     },
     "execution_count": 19,
     "metadata": {},
     "output_type": "execute_result"
    }
   ],
   "source": [
    "# we need to account for empty messages\n",
    "messages = [msg for msg in my_imessage_df[\"text\"] if msg]\n",
    "\n",
    "msg_tokens = []\n",
    "for msg in messages:\n",
    "    new_set = nltk.word_tokenize(msg)\n",
    "    msg_tokens.extend(new_set)\n",
    "    \n",
    "msg_tokens\n",
    "\n",
    "text = nltk.Text(msg_tokens)\n",
    "text"
   ]
  },
  {
   "cell_type": "markdown",
   "metadata": {
    "slideshow": {
     "slide_type": "subslide"
    }
   },
   "source": [
    "## How do I feel?\n",
    "\n",
    "Let's use **dispersion plots** to see how the mentioning of certain words are distributed over all the messages that I've sent."
   ]
  },
  {
   "cell_type": "code",
   "execution_count": 20,
   "metadata": {
    "slideshow": {
     "slide_type": "fragment"
    }
   },
   "outputs": [
    {
     "data": {
      "image/png": "[encoded data removed]",
      "text/plain": [
       "<matplotlib.figure.Figure at 0x11a8aac18>"
      ]
     },
     "metadata": {},
     "output_type": "display_data"
    }
   ],
   "source": [
    "text.dispersion_plot([\n",
    "    \"hungry\", \"happy\", \"sad\", \"sleepy\", \"jealous\", \"angry\", \"gutted\"\n",
    "])"
   ]
  },
  {
   "cell_type": "markdown",
   "metadata": {
    "slideshow": {
     "slide_type": "fragment"
    }
   },
   "source": [
    "Looks like I'm much more happy than I am sad, and don't get angry very often. I thought I'd be sleepier though!"
   ]
  },
  {
   "cell_type": "markdown",
   "metadata": {
    "slideshow": {
     "slide_type": "subslide"
    }
   },
   "source": [
    "## What's my favourite meal to talk about?"
   ]
  },
  {
   "cell_type": "code",
   "execution_count": 21,
   "metadata": {
    "slideshow": {
     "slide_type": "fragment"
    }
   },
   "outputs": [
    {
     "data": {
      "image/png": "[encoded data removed]",
      "text/plain": [
       "<matplotlib.figure.Figure at 0x11a898fd0>"
      ]
     },
     "metadata": {},
     "output_type": "display_data"
    }
   ],
   "source": [
    "text.dispersion_plot([\n",
    "    \"breakfast\", \"brunch\", \"lunch\", \"dinner\", \"snack\", \"dessert\"\n",
    "])"
   ]
  },
  {
   "cell_type": "markdown",
   "metadata": {
    "slideshow": {
     "slide_type": "fragment"
    }
   },
   "source": [
    "Dinner! This is usually a correspondance between my partner and I each day trying to organise our evening meal."
   ]
  },
  {
   "cell_type": "markdown",
   "metadata": {
    "slideshow": {
     "slide_type": "slide"
    }
   },
   "source": [
    "# Thanks!\n",
    "\n",
    "If you're like to use this for your own data, I'll be putting it up on Github soon :)\n",
    "\n",
    "Next steps: Sentiment Analysis!\n",
    "\n",
    "http://www.nltk.org/howto/sentiment.html\n"
   ]
  },
  {
   "cell_type": "markdown",
   "metadata": {
    "slideshow": {
     "slide_type": "skip"
    }
   },
   "source": [
    "# References\n",
    "\n",
    "[1] https://en.wikipedia.org/wiki/Year_2038_problem"
   ]
  }
 ],
 "metadata": {
  "celltoolbar": "Slideshow",
  "kernelspec": {
   "display_name": "Python [default]",
   "language": "python",
   "name": "python3"
  },
  "language_info": {
   "codemirror_mode": {
    "name": "ipython",
    "version": 3
   },
   "file_extension": ".py",
   "mimetype": "text/x-python",
   "name": "python",
   "nbconvert_exporter": "python",
   "pygments_lexer": "ipython3",
   "version": "3.6.1"
  }
 },
 "nbformat": 4,
 "nbformat_minor": 2
}
